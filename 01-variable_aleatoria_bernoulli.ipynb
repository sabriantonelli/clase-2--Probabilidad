{
 "cells": [
  {
   "cell_type": "markdown",
   "metadata": {},
   "source": [
    "# Bajamos librerías y data para colab"
   ]
  },
  {
   "cell_type": "code",
   "execution_count": null,
   "metadata": {},
   "outputs": [],
   "source": [
    "! wget https://github.com/lab-pep-itba/clase-2--Probabilidad/raw/master/alturas-pesos-1-train.csv"
   ]
  },
  {
   "cell_type": "code",
   "execution_count": null,
   "metadata": {},
   "outputs": [],
   "source": [
    "! wget https://github.com/lab-pep-itba/clase-2--Probabilidad/raw/master/alturas-pesos-train.csv"
   ]
  },
  {
   "cell_type": "code",
   "execution_count": null,
   "metadata": {},
   "outputs": [],
   "source": [
    "! wget https://github.com/lab-pep-itba/clase-2--Probabilidad/raw/master/helper.py"
   ]
  },
  {
   "cell_type": "code",
   "execution_count": null,
   "metadata": {},
   "outputs": [],
   "source": [
    "! wget https://github.com/lab-pep-itba/clase-2--Probabilidad/raw/master/bernoulli_1.npy"
   ]
  },
  {
   "cell_type": "code",
   "execution_count": null,
   "metadata": {},
   "outputs": [],
   "source": [
    "! wget https://github.com/lab-pep-itba/clase-2--Probabilidad/raw/master/bernoulli_2.npy"
   ]
  },
  {
   "cell_type": "markdown",
   "metadata": {},
   "source": [
    "# Variables Aleatorias\n",
    "\n",
    "Mapeo de la salida de un experimento aleatorio al eje real"
   ]
  },
  {
   "cell_type": "markdown",
   "metadata": {},
   "source": [
    "## V.A. Bernoulli"
   ]
  },
  {
   "cell_type": "markdown",
   "metadata": {},
   "source": [
    "Experimento con 2 salidas posibles, muchas veces representado por los valores 0 y 1 en el eje real.\n",
    "\n",
    "Ejemplo clasico de la moneda:\n",
    "- Mapeo la cara en el valor del eje real 1\n",
    "- Mapeo la seca en el valor del eje real 0"
   ]
  },
  {
   "cell_type": "markdown",
   "metadata": {},
   "source": [
    "Definición general de la V.A de Bernoulli\n",
    "\n",
    "$P(X= cara) = P(X=1) = p$\n",
    "\n",
    "$P(X= seca) = P(X=0) = 1-p$"
   ]
  },
  {
   "cell_type": "markdown",
   "metadata": {},
   "source": [
    "$p$ es el único parámetro que describe una variable aleatoria de bernoulli"
   ]
  },
  {
   "cell_type": "markdown",
   "metadata": {},
   "source": [
    "## Como estimamos p? "
   ]
  },
  {
   "cell_type": "markdown",
   "metadata": {},
   "source": [
    "### Opcion 1: \n",
    "### Suponer a priori que las probabilidades de todas las salidas es la misma (Fair Coin)"
   ]
  },
  {
   "cell_type": "markdown",
   "metadata": {},
   "source": [
    "$\\huge p = \\frac{N_p}{N}$\n",
    "\n",
    "$N_p$ = Numero de resultados favorables\n",
    "\n",
    "$N$ = Numero de resultados posibles"
   ]
  },
  {
   "cell_type": "markdown",
   "metadata": {},
   "source": [
    "$P(X= cara) = P(X=1) = \\frac{1}{2} = 0.5$\n",
    "\n",
    "$P(X= seca) = P(X=0) = \\frac{1}{2} = 0.5$"
   ]
  },
  {
   "cell_type": "markdown",
   "metadata": {},
   "source": [
    "### Opcion 2: Probabilidad frecuencial"
   ]
  },
  {
   "cell_type": "markdown",
   "metadata": {},
   "source": [
    "Supongamos que tengo un dataset con la salida de el experimento de tirar la moneda 1000 veces."
   ]
  },
  {
   "cell_type": "code",
   "execution_count": 2,
   "metadata": {},
   "outputs": [],
   "source": [
    "# Cargamos el dataset\n",
    "import numpy as np\n",
    "va_bernoulli_1 = np.load('bernoulli_1.npy')"
   ]
  },
  {
   "cell_type": "code",
   "execution_count": 80,
   "metadata": {},
   "outputs": [],
   "source": [
    "#va_bernoulli_1"
   ]
  },
  {
   "cell_type": "code",
   "execution_count": 83,
   "metadata": {},
   "outputs": [],
   "source": [
    "unos = (va_bernoulli_1 == 1).sum()\n",
    "ceros = (va_bernoulli_1 == 0).sum()"
   ]
  },
  {
   "cell_type": "code",
   "execution_count": 87,
   "metadata": {},
   "outputs": [
    {
     "name": "stdout",
     "output_type": "stream",
     "text": [
      "0.909\n"
     ]
    }
   ],
   "source": [
    "p_1 = unos/len(va_bernoulli_1)\n",
    "print(p_1)"
   ]
  },
  {
   "cell_type": "code",
   "execution_count": 89,
   "metadata": {},
   "outputs": [],
   "source": [
    "va_bernoulli_2 = np.load('bernoulli_2.npy')"
   ]
  },
  {
   "cell_type": "code",
   "execution_count": 90,
   "metadata": {},
   "outputs": [
    {
     "name": "stdout",
     "output_type": "stream",
     "text": [
      "0.51\n"
     ]
    }
   ],
   "source": [
    "p_2 = (va_bernoulli_2 == 1).sum()/len(va_bernoulli_2)\n",
    "print(p_2)"
   ]
  },
  {
   "cell_type": "markdown",
   "metadata": {},
   "source": [
    "### Conclusiones:\n",
    "\n",
    "- El parámetro p de la primer V.A de Bernoulli es 0.909\n",
    "- El parámetro p de la segurna V.A de Bernoulli es 0.51"
   ]
  },
  {
   "cell_type": "markdown",
   "metadata": {},
   "source": [
    "## Modelo de un V.A de Bernoulli\n",
    "Modelizamos ahora una V.A de Bernoulli y usamos el modelo para generar valores"
   ]
  },
  {
   "cell_type": "code",
   "execution_count": 10,
   "metadata": {},
   "outputs": [
    {
     "data": {
      "text/plain": [
       "array([0, 1, 0, 0, 0, 1, 0, 0, 1, 0])"
      ]
     },
     "execution_count": 10,
     "metadata": {},
     "output_type": "execute_result"
    }
   ],
   "source": [
    "np.random.choice([1,0], 10, p=[0.3, 0.7])"
   ]
  },
  {
   "cell_type": "code",
   "execution_count": 11,
   "metadata": {},
   "outputs": [
    {
     "data": {
      "text/plain": [
       "array([0, 0, 0, 1, 1, 1, 0, 0, 1, 0])"
      ]
     },
     "execution_count": 11,
     "metadata": {},
     "output_type": "execute_result"
    }
   ],
   "source": [
    "np.random.choice([1,0], 10, p=[0.5, 0.5])"
   ]
  },
  {
   "cell_type": "code",
   "execution_count": 12,
   "metadata": {},
   "outputs": [
    {
     "data": {
      "text/plain": [
       "array([1, 0, 0, 0, 1, 1, 0, 0, 0, 0])"
      ]
     },
     "execution_count": 12,
     "metadata": {},
     "output_type": "execute_result"
    }
   ],
   "source": [
    "np.random.choice([1,0], 10, p=[0.2, 0.8])"
   ]
  },
  {
   "cell_type": "markdown",
   "metadata": {},
   "source": [
    "## Momentos de una V.A\n",
    "Media, Varianza, desvio estandar"
   ]
  },
  {
   "cell_type": "markdown",
   "metadata": {},
   "source": [
    "$E\\{X\\} = \\mu_X = \\sum_{i=1}^N{X_iP(X_i=i)}$\n",
    "\n",
    "$E\\{(X-\\mu_x)^2\\} = \\sigma_X^2 = \\sum_{i=1}^N{(X_i-\\mu_X)^2P(X_i=i)}$"
   ]
  },
  {
   "cell_type": "markdown",
   "metadata": {},
   "source": [
    "### Ejemplo:\n",
    "\n",
    "Dado que p = 0.1\n",
    "\n",
    "$\\mu_X = 1 \\cdot 0.1 + 0 \\cdot 0.9 = 0.1$\n",
    "\n",
    "$\\sigma_X^2 = 0.1\\cdot(1-0.1)^2 + 0.9\\cdot(0 - 0.1)^2 = 0.09$"
   ]
  },
  {
   "cell_type": "markdown",
   "metadata": {},
   "source": [
    "Se puede demostrar muy facil que la V.A de Bernoulli tiene media $p$ y varianza $p(1-p)$"
   ]
  },
  {
   "cell_type": "code",
   "execution_count": 91,
   "metadata": {},
   "outputs": [
    {
     "data": {
      "text/plain": [
       "0.09000000000000002"
      ]
     },
     "execution_count": 91,
     "metadata": {},
     "output_type": "execute_result"
    }
   ],
   "source": [
    "0.1*(1-0.1)**2 + 0.9*(0-0.1)**2"
   ]
  },
  {
   "cell_type": "markdown",
   "metadata": {},
   "source": [
    "El desvio estandard es la raiz cuadrada de la varianza $\\sigma$"
   ]
  },
  {
   "cell_type": "markdown",
   "metadata": {},
   "source": [
    "## Estimación de los momentos"
   ]
  },
  {
   "cell_type": "code",
   "execution_count": 42,
   "metadata": {},
   "outputs": [],
   "source": [
    "va_bernoulli_1 = np.load('bernoulli_1.npy')"
   ]
  },
  {
   "cell_type": "code",
   "execution_count": 44,
   "metadata": {},
   "outputs": [
    {
     "data": {
      "text/plain": [
       "0.909"
      ]
     },
     "execution_count": 44,
     "metadata": {},
     "output_type": "execute_result"
    }
   ],
   "source": [
    "# Notar que la estimación coincide con el p calculado anteriormente\n",
    "va_bernoulli_1.mean()"
   ]
  },
  {
   "cell_type": "code",
   "execution_count": 45,
   "metadata": {},
   "outputs": [
    {
     "data": {
      "text/plain": [
       "0.082719"
      ]
     },
     "execution_count": 45,
     "metadata": {},
     "output_type": "execute_result"
    }
   ],
   "source": [
    "va_bernoulli_1.var()"
   ]
  },
  {
   "cell_type": "code",
   "execution_count": 51,
   "metadata": {},
   "outputs": [
    {
     "name": "stdout",
     "output_type": "stream",
     "text": [
      "0.909\n"
     ]
    }
   ],
   "source": [
    "# Si la queremos hacer a mano\n",
    "# Media\n",
    "suma = 0\n",
    "for x in va_bernoulli_1:\n",
    "    suma = suma + x\n",
    "media_ = suma/len(va_bernoulli_1)\n",
    "print(media_)"
   ]
  },
  {
   "cell_type": "code",
   "execution_count": 55,
   "metadata": {},
   "outputs": [],
   "source": [
    "# Varianza\n",
    "suma = 0\n",
    "for x in va_bernoulli_1:\n",
    "    suma = suma + (x - media_)**2\n",
    "varianza_ = suma/len(va_bernoulli_1)"
   ]
  },
  {
   "cell_type": "code",
   "execution_count": 54,
   "metadata": {},
   "outputs": [
    {
     "data": {
      "text/plain": [
       "0.08271899999999832"
      ]
     },
     "execution_count": 54,
     "metadata": {},
     "output_type": "execute_result"
    }
   ],
   "source": [
    "varianza_"
   ]
  },
  {
   "cell_type": "markdown",
   "metadata": {},
   "source": [
    "## Entropía"
   ]
  },
  {
   "cell_type": "markdown",
   "metadata": {},
   "source": [
    "$S = - \\sum_{i=1}^N{P_i log(P_i)}$\n",
    "\n",
    "Suele realizarse con logaritmo en base a la cantidad de salidas posibles para que quede normalizada"
   ]
  },
  {
   "cell_type": "markdown",
   "metadata": {},
   "source": [
    "Para Bernoulli con p 0.1:"
   ]
  },
  {
   "cell_type": "markdown",
   "metadata": {},
   "source": [
    "$S = - \\{0.1 \\cdot log(0.1) + 0.9 \\cdot log(0.9)\\}$"
   ]
  },
  {
   "cell_type": "code",
   "execution_count": 92,
   "metadata": {},
   "outputs": [],
   "source": [
    "entropy = []\n",
    "N = 100\n",
    "probs = np.linspace(1/N, 1-1/N, N)\n",
    "for p in probs:\n",
    "    entropy.append((-p*np.log(p) - (1-p)*np.log(1-p))/np.log(2))"
   ]
  },
  {
   "cell_type": "code",
   "execution_count": 93,
   "metadata": {},
   "outputs": [],
   "source": [
    "from matplotlib import pyplot as plt"
   ]
  },
  {
   "cell_type": "code",
   "execution_count": 77,
   "metadata": {},
   "outputs": [
    {
     "data": {
      "image/png": "[encoded data removed]",
      "text/plain": [
       "<Figure size 432x288 with 1 Axes>"
      ]
     },
     "metadata": {
      "needs_background": "light"
     },
     "output_type": "display_data"
    }
   ],
   "source": [
    "plt.plot(probs, entropy)\n",
    "plt.show()"
   ]
  },
  {
   "cell_type": "markdown",
   "metadata": {},
   "source": [
    "A máxima entropía, mayor incertidumbre (Máxima confusión)"
   ]
  }
 ],
 "metadata": {
  "kernelspec": {
   "display_name": "Python 3",
   "language": "python",
   "name": "python3"
  },
  "language_info": {
   "codemirror_mode": {
    "name": "ipython",
    "version": 3
   },
   "file_extension": ".py",
   "mimetype": "text/x-python",
   "name": "python",
   "nbconvert_exporter": "python",
   "pygments_lexer": "ipython3",
   "version": "3.8.8"
  }
 },
 "nbformat": 4,
 "nbformat_minor": 2
}
